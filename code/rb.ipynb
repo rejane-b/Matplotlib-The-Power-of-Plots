{
 "cells": [
  {
   "cell_type": "code",
   "execution_count": 1,
   "metadata": {},
   "outputs": [],
   "source": [
    "# Dependencies and Setup\n",
    "import matplotlib.pyplot as plt\n",
    "from scipy import stats \n",
    "import scipy.stats as st\n",
    "from scipy.stats import linregress\n",
    "import pandas as pd\n",
    "import numpy as np\n",
    "import seaborn as sns\n",
    "import os\n",
    "import csv"
   ]
  },
  {
   "cell_type": "code",
   "execution_count": 2,
   "metadata": {},
   "outputs": [],
   "source": [
    "owid_path = \"./owid-covid-data.csv\""
   ]
  },
  {
   "cell_type": "code",
   "execution_count": 3,
   "metadata": {},
   "outputs": [],
   "source": [
    "owid = pd.read_csv(owid_path, low_memory=False, encoding=\"utf-8\")"
   ]
  },
  {
   "cell_type": "code",
   "execution_count": 4,
   "metadata": {},
   "outputs": [],
   "source": [
    "owid_2 = owid[[\"location\", \"date\", \"total_cases\", \"total_deaths\",\"population\", \"population_density\", \"median_age\"]]"
   ]
  },
  {
   "cell_type": "code",
   "execution_count": 5,
   "metadata": {},
   "outputs": [],
   "source": [
    "countries = [\"China\", \"Japan\", \"New Zealand\", \"United Kingdom\", \"Italy\", \"Sweden\", \"United States\", \"Brazil\"]\n",
    "magic = \"|\".join(countries)\n",
    "\n",
    "owid_df = owid_2[owid_2[\"location\"].str.contains(magic,regex=True)]"
   ]
  },
  {
   "cell_type": "code",
   "execution_count": 6,
   "metadata": {
    "scrolled": true
   },
   "outputs": [
    {
     "data": {
      "text/html": [
       "<div>\n",
       "<style scoped>\n",
       "    .dataframe tbody tr th:only-of-type {\n",
       "        vertical-align: middle;\n",
       "    }\n",
       "\n",
       "    .dataframe tbody tr th {\n",
       "        vertical-align: top;\n",
       "    }\n",
       "\n",
       "    .dataframe thead th {\n",
       "        text-align: right;\n",
       "    }\n",
       "</style>\n",
       "<table border=\"1\" class=\"dataframe\">\n",
       "  <thead>\n",
       "    <tr style=\"text-align: right;\">\n",
       "      <th></th>\n",
       "      <th>location</th>\n",
       "      <th>date</th>\n",
       "      <th>total_cases</th>\n",
       "      <th>total_deaths</th>\n",
       "      <th>population</th>\n",
       "      <th>population_density</th>\n",
       "      <th>median_age</th>\n",
       "    </tr>\n",
       "  </thead>\n",
       "  <tbody>\n",
       "    <tr>\n",
       "      <th>6743</th>\n",
       "      <td>Brazil</td>\n",
       "      <td>12/31/2019</td>\n",
       "      <td>NaN</td>\n",
       "      <td>NaN</td>\n",
       "      <td>212559409.0</td>\n",
       "      <td>25.040</td>\n",
       "      <td>33.5</td>\n",
       "    </tr>\n",
       "    <tr>\n",
       "      <th>6744</th>\n",
       "      <td>Brazil</td>\n",
       "      <td>1/1/2020</td>\n",
       "      <td>NaN</td>\n",
       "      <td>NaN</td>\n",
       "      <td>212559409.0</td>\n",
       "      <td>25.040</td>\n",
       "      <td>33.5</td>\n",
       "    </tr>\n",
       "    <tr>\n",
       "      <th>6745</th>\n",
       "      <td>Brazil</td>\n",
       "      <td>1/2/2020</td>\n",
       "      <td>NaN</td>\n",
       "      <td>NaN</td>\n",
       "      <td>212559409.0</td>\n",
       "      <td>25.040</td>\n",
       "      <td>33.5</td>\n",
       "    </tr>\n",
       "    <tr>\n",
       "      <th>6746</th>\n",
       "      <td>Brazil</td>\n",
       "      <td>1/3/2020</td>\n",
       "      <td>NaN</td>\n",
       "      <td>NaN</td>\n",
       "      <td>212559409.0</td>\n",
       "      <td>25.040</td>\n",
       "      <td>33.5</td>\n",
       "    </tr>\n",
       "    <tr>\n",
       "      <th>6747</th>\n",
       "      <td>Brazil</td>\n",
       "      <td>1/4/2020</td>\n",
       "      <td>NaN</td>\n",
       "      <td>NaN</td>\n",
       "      <td>212559409.0</td>\n",
       "      <td>25.040</td>\n",
       "      <td>33.5</td>\n",
       "    </tr>\n",
       "    <tr>\n",
       "      <th>...</th>\n",
       "      <td>...</td>\n",
       "      <td>...</td>\n",
       "      <td>...</td>\n",
       "      <td>...</td>\n",
       "      <td>...</td>\n",
       "      <td>...</td>\n",
       "      <td>...</td>\n",
       "    </tr>\n",
       "    <tr>\n",
       "      <th>49277</th>\n",
       "      <td>United States</td>\n",
       "      <td>10/22/2020</td>\n",
       "      <td>8336282.0</td>\n",
       "      <td>222201.0</td>\n",
       "      <td>331002647.0</td>\n",
       "      <td>35.608</td>\n",
       "      <td>38.3</td>\n",
       "    </tr>\n",
       "    <tr>\n",
       "      <th>49278</th>\n",
       "      <td>United States</td>\n",
       "      <td>10/23/2020</td>\n",
       "      <td>8408340.0</td>\n",
       "      <td>223042.0</td>\n",
       "      <td>331002647.0</td>\n",
       "      <td>35.608</td>\n",
       "      <td>38.3</td>\n",
       "    </tr>\n",
       "    <tr>\n",
       "      <th>49279</th>\n",
       "      <td>United States</td>\n",
       "      <td>10/24/2020</td>\n",
       "      <td>8493669.0</td>\n",
       "      <td>223995.0</td>\n",
       "      <td>331002647.0</td>\n",
       "      <td>35.608</td>\n",
       "      <td>38.3</td>\n",
       "    </tr>\n",
       "    <tr>\n",
       "      <th>49280</th>\n",
       "      <td>United States</td>\n",
       "      <td>10/25/2020</td>\n",
       "      <td>8576725.0</td>\n",
       "      <td>224899.0</td>\n",
       "      <td>331002647.0</td>\n",
       "      <td>35.608</td>\n",
       "      <td>38.3</td>\n",
       "    </tr>\n",
       "    <tr>\n",
       "      <th>49281</th>\n",
       "      <td>United States</td>\n",
       "      <td>10/26/2020</td>\n",
       "      <td>8636165.0</td>\n",
       "      <td>225230.0</td>\n",
       "      <td>331002647.0</td>\n",
       "      <td>35.608</td>\n",
       "      <td>38.3</td>\n",
       "    </tr>\n",
       "  </tbody>\n",
       "</table>\n",
       "<p>1806 rows × 7 columns</p>\n",
       "</div>"
      ],
      "text/plain": [
       "            location        date  total_cases  total_deaths   population  \\\n",
       "6743          Brazil  12/31/2019          NaN           NaN  212559409.0   \n",
       "6744          Brazil    1/1/2020          NaN           NaN  212559409.0   \n",
       "6745          Brazil    1/2/2020          NaN           NaN  212559409.0   \n",
       "6746          Brazil    1/3/2020          NaN           NaN  212559409.0   \n",
       "6747          Brazil    1/4/2020          NaN           NaN  212559409.0   \n",
       "...              ...         ...          ...           ...          ...   \n",
       "49277  United States  10/22/2020    8336282.0      222201.0  331002647.0   \n",
       "49278  United States  10/23/2020    8408340.0      223042.0  331002647.0   \n",
       "49279  United States  10/24/2020    8493669.0      223995.0  331002647.0   \n",
       "49280  United States  10/25/2020    8576725.0      224899.0  331002647.0   \n",
       "49281  United States  10/26/2020    8636165.0      225230.0  331002647.0   \n",
       "\n",
       "       population_density  median_age  \n",
       "6743               25.040        33.5  \n",
       "6744               25.040        33.5  \n",
       "6745               25.040        33.5  \n",
       "6746               25.040        33.5  \n",
       "6747               25.040        33.5  \n",
       "...                   ...         ...  \n",
       "49277              35.608        38.3  \n",
       "49278              35.608        38.3  \n",
       "49279              35.608        38.3  \n",
       "49280              35.608        38.3  \n",
       "49281              35.608        38.3  \n",
       "\n",
       "[1806 rows x 7 columns]"
      ]
     },
     "execution_count": 6,
     "metadata": {},
     "output_type": "execute_result"
    }
   ],
   "source": [
    "owid_df[owid_df.location.isin(['United States', 'China', 'Italy', 'Sweeden', 'UK', 'Japan', 'New Zealand', 'Brazil'])]\n"
   ]
  },
  {
   "cell_type": "code",
   "execution_count": 7,
   "metadata": {},
   "outputs": [],
   "source": [
    "# Separate countries of interest and last row of data"
   ]
  },
  {
   "cell_type": "code",
   "execution_count": 8,
   "metadata": {},
   "outputs": [],
   "source": [
    "owid_3 = owid_df.drop_duplicates(subset=['location'], keep='last').drop([50615])"
   ]
  },
  {
   "cell_type": "code",
   "execution_count": 9,
   "metadata": {},
   "outputs": [],
   "source": [
    "# Rename columns"
   ]
  },
  {
   "cell_type": "code",
   "execution_count": 10,
   "metadata": {},
   "outputs": [
    {
     "data": {
      "text/html": [
       "<div>\n",
       "<style scoped>\n",
       "    .dataframe tbody tr th:only-of-type {\n",
       "        vertical-align: middle;\n",
       "    }\n",
       "\n",
       "    .dataframe tbody tr th {\n",
       "        vertical-align: top;\n",
       "    }\n",
       "\n",
       "    .dataframe thead th {\n",
       "        text-align: right;\n",
       "    }\n",
       "</style>\n",
       "<table border=\"1\" class=\"dataframe\">\n",
       "  <thead>\n",
       "    <tr style=\"text-align: right;\">\n",
       "      <th></th>\n",
       "      <th>Location</th>\n",
       "      <th>Date</th>\n",
       "      <th>Total Cases</th>\n",
       "      <th>Total Deaths</th>\n",
       "      <th>Population</th>\n",
       "      <th>Population Density</th>\n",
       "      <th>Median Age (years)</th>\n",
       "    </tr>\n",
       "  </thead>\n",
       "  <tbody>\n",
       "    <tr>\n",
       "      <th>7043</th>\n",
       "      <td>Brazil</td>\n",
       "      <td>10/26/2020</td>\n",
       "      <td>5394128.0</td>\n",
       "      <td>157134.0</td>\n",
       "      <td>2.125594e+08</td>\n",
       "      <td>25.040</td>\n",
       "      <td>33.5</td>\n",
       "    </tr>\n",
       "    <tr>\n",
       "      <th>9299</th>\n",
       "      <td>China</td>\n",
       "      <td>10/26/2020</td>\n",
       "      <td>91151.0</td>\n",
       "      <td>4739.0</td>\n",
       "      <td>1.439324e+09</td>\n",
       "      <td>147.674</td>\n",
       "      <td>38.7</td>\n",
       "    </tr>\n",
       "    <tr>\n",
       "      <th>17596</th>\n",
       "      <td>United Kingdom</td>\n",
       "      <td>10/26/2020</td>\n",
       "      <td>873800.0</td>\n",
       "      <td>44896.0</td>\n",
       "      <td>6.788600e+07</td>\n",
       "      <td>272.898</td>\n",
       "      <td>40.8</td>\n",
       "    </tr>\n",
       "    <tr>\n",
       "      <th>24568</th>\n",
       "      <td>Italy</td>\n",
       "      <td>10/26/2020</td>\n",
       "      <td>525782.0</td>\n",
       "      <td>37338.0</td>\n",
       "      <td>6.046183e+07</td>\n",
       "      <td>205.859</td>\n",
       "      <td>47.9</td>\n",
       "    </tr>\n",
       "    <tr>\n",
       "      <th>25552</th>\n",
       "      <td>Japan</td>\n",
       "      <td>10/26/2020</td>\n",
       "      <td>97074.0</td>\n",
       "      <td>1718.0</td>\n",
       "      <td>1.264765e+08</td>\n",
       "      <td>347.778</td>\n",
       "      <td>48.2</td>\n",
       "    </tr>\n",
       "    <tr>\n",
       "      <th>37096</th>\n",
       "      <td>New Zealand</td>\n",
       "      <td>10/26/2020</td>\n",
       "      <td>1584.0</td>\n",
       "      <td>25.0</td>\n",
       "      <td>4.822233e+06</td>\n",
       "      <td>18.206</td>\n",
       "      <td>37.9</td>\n",
       "    </tr>\n",
       "    <tr>\n",
       "      <th>44814</th>\n",
       "      <td>Sweden</td>\n",
       "      <td>10/23/2020</td>\n",
       "      <td>110594.0</td>\n",
       "      <td>5933.0</td>\n",
       "      <td>1.009927e+07</td>\n",
       "      <td>24.718</td>\n",
       "      <td>41.0</td>\n",
       "    </tr>\n",
       "    <tr>\n",
       "      <th>49281</th>\n",
       "      <td>United States</td>\n",
       "      <td>10/26/2020</td>\n",
       "      <td>8636165.0</td>\n",
       "      <td>225230.0</td>\n",
       "      <td>3.310026e+08</td>\n",
       "      <td>35.608</td>\n",
       "      <td>38.3</td>\n",
       "    </tr>\n",
       "  </tbody>\n",
       "</table>\n",
       "</div>"
      ],
      "text/plain": [
       "             Location        Date  Total Cases  Total Deaths    Population  \\\n",
       "7043           Brazil  10/26/2020    5394128.0      157134.0  2.125594e+08   \n",
       "9299            China  10/26/2020      91151.0        4739.0  1.439324e+09   \n",
       "17596  United Kingdom  10/26/2020     873800.0       44896.0  6.788600e+07   \n",
       "24568           Italy  10/26/2020     525782.0       37338.0  6.046183e+07   \n",
       "25552           Japan  10/26/2020      97074.0        1718.0  1.264765e+08   \n",
       "37096     New Zealand  10/26/2020       1584.0          25.0  4.822233e+06   \n",
       "44814          Sweden  10/23/2020     110594.0        5933.0  1.009927e+07   \n",
       "49281   United States  10/26/2020    8636165.0      225230.0  3.310026e+08   \n",
       "\n",
       "       Population Density  Median Age (years)  \n",
       "7043               25.040                33.5  \n",
       "9299              147.674                38.7  \n",
       "17596             272.898                40.8  \n",
       "24568             205.859                47.9  \n",
       "25552             347.778                48.2  \n",
       "37096              18.206                37.9  \n",
       "44814              24.718                41.0  \n",
       "49281              35.608                38.3  "
      ]
     },
     "execution_count": 10,
     "metadata": {},
     "output_type": "execute_result"
    }
   ],
   "source": [
    "owid_4 = owid_3.rename(columns={\"location\": \"Location\", \"date\": \"Date\", \"total_cases\": \"Total Cases\", \"total_deaths\": \"Total Deaths\",\n",
    "                             \"population\": \"Population\", \"population_density\":\"Population Density\", \"median_age\": \"Median Age (years)\"})\n",
    "owid_4"
   ]
  },
  {
   "cell_type": "code",
   "execution_count": 11,
   "metadata": {},
   "outputs": [],
   "source": [
    "# Export data into a .csv"
   ]
  },
  {
   "cell_type": "code",
   "execution_count": 12,
   "metadata": {},
   "outputs": [],
   "source": [
    "owid_4.to_csv(\"owid_data.csv\", encoding=\"utf-8\")"
   ]
  },
  {
   "cell_type": "code",
   "execution_count": 13,
   "metadata": {},
   "outputs": [],
   "source": [
    "# Separating each country data"
   ]
  },
  {
   "cell_type": "code",
   "execution_count": 14,
   "metadata": {},
   "outputs": [],
   "source": [
    "Brazil = owid_4.loc[owid_4[\"Location\"]=='Brazil']\n",
    "China = owid_4.loc[owid_4[\"Location\"]=='China']\n",
    "UK = owid_4.loc[owid_4[\"Location\"]=='United Kingdom']\n",
    "Italy = owid_4.loc[owid_4[\"Location\"]=='Italy']\n",
    "Japan = owid_4.loc[owid_4[\"Location\"]=='Japan']\n",
    "New_Zealand = owid_4.loc[owid_4[\"Location\"]=='New Zealand']\n",
    "Sweden = owid_4.loc[owid_4[\"Location\"]=='Sweden']\n",
    "US = owid_4.loc[owid_4[\"Location\"]=='United States']"
   ]
  },
  {
   "cell_type": "code",
   "execution_count": 15,
   "metadata": {},
   "outputs": [],
   "source": [
    "# Calculate Mortality Rate for each country"
   ]
  },
  {
   "cell_type": "code",
   "execution_count": 16,
   "metadata": {},
   "outputs": [
    {
     "data": {
      "text/plain": [
       "739.25"
      ]
     },
     "execution_count": 16,
     "metadata": {},
     "output_type": "execute_result"
    }
   ],
   "source": [
    "br_rate = Brazil['Total Deaths']*1000000/ Brazil['Population']\n",
    "br_rate[7043].round(decimals=2)"
   ]
  },
  {
   "cell_type": "code",
   "execution_count": 17,
   "metadata": {},
   "outputs": [
    {
     "data": {
      "text/plain": [
       "3.29"
      ]
     },
     "execution_count": 17,
     "metadata": {},
     "output_type": "execute_result"
    }
   ],
   "source": [
    "chi_rate = China['Total Deaths']*1000000/ China['Population']\n",
    "chi_rate[9299].round(decimals=2)"
   ]
  },
  {
   "cell_type": "code",
   "execution_count": 18,
   "metadata": {},
   "outputs": [
    {
     "data": {
      "text/plain": [
       "661.34"
      ]
     },
     "execution_count": 18,
     "metadata": {},
     "output_type": "execute_result"
    }
   ],
   "source": [
    "uk_rate = UK['Total Deaths']*1000000/ UK['Population']\n",
    "uk_rate[17596].round(decimals=2)"
   ]
  },
  {
   "cell_type": "code",
   "execution_count": 19,
   "metadata": {},
   "outputs": [
    {
     "data": {
      "text/plain": [
       "617.55"
      ]
     },
     "execution_count": 19,
     "metadata": {},
     "output_type": "execute_result"
    }
   ],
   "source": [
    "it_rate = Italy['Total Deaths']*1000000/ Italy['Population']\n",
    "it_rate[24568].round(decimals=2)"
   ]
  },
  {
   "cell_type": "code",
   "execution_count": 20,
   "metadata": {},
   "outputs": [
    {
     "data": {
      "text/plain": [
       "13.58"
      ]
     },
     "execution_count": 20,
     "metadata": {},
     "output_type": "execute_result"
    }
   ],
   "source": [
    "jp_rate = Japan['Total Deaths']*1000000/ Japan['Population']\n",
    "jp_rate[25552].round(decimals=2)"
   ]
  },
  {
   "cell_type": "code",
   "execution_count": 21,
   "metadata": {},
   "outputs": [
    {
     "data": {
      "text/plain": [
       "5.18"
      ]
     },
     "execution_count": 21,
     "metadata": {},
     "output_type": "execute_result"
    }
   ],
   "source": [
    "nz_rate = New_Zealand['Total Deaths']*1000000/ New_Zealand['Population']\n",
    "nz_rate[37096].round(decimals=2)"
   ]
  },
  {
   "cell_type": "code",
   "execution_count": 22,
   "metadata": {},
   "outputs": [
    {
     "data": {
      "text/plain": [
       "587.47"
      ]
     },
     "execution_count": 22,
     "metadata": {},
     "output_type": "execute_result"
    }
   ],
   "source": [
    "se_rate = Sweden['Total Deaths']*1000000/ Sweden['Population']\n",
    "se_rate[44814].round(decimals=2)"
   ]
  },
  {
   "cell_type": "code",
   "execution_count": 23,
   "metadata": {},
   "outputs": [
    {
     "data": {
      "text/plain": [
       "680.45"
      ]
     },
     "execution_count": 23,
     "metadata": {},
     "output_type": "execute_result"
    }
   ],
   "source": [
    "us_rate = US['Total Deaths']*1000000/ US['Population']\n",
    "us_rate[49281].round(decimals=2)"
   ]
  },
  {
   "cell_type": "code",
   "execution_count": 24,
   "metadata": {},
   "outputs": [],
   "source": [
    "# Calculate number of cases per Km2 for each country"
   ]
  },
  {
   "cell_type": "code",
   "execution_count": 25,
   "metadata": {},
   "outputs": [
    {
     "data": {
      "text/plain": [
       "0.64"
      ]
     },
     "execution_count": 25,
     "metadata": {},
     "output_type": "execute_result"
    }
   ],
   "source": [
    "br_case = Brazil['Total Cases']*Brazil['Population Density']/Brazil['Population']\n",
    "br_case[7043].round(decimals=2)"
   ]
  },
  {
   "cell_type": "code",
   "execution_count": 26,
   "metadata": {},
   "outputs": [
    {
     "data": {
      "text/plain": [
       "0.01"
      ]
     },
     "execution_count": 26,
     "metadata": {},
     "output_type": "execute_result"
    }
   ],
   "source": [
    "chi_case = China['Total Cases']*China['Population Density']/China['Population']\n",
    "chi_case[9299].round(decimals=2)"
   ]
  },
  {
   "cell_type": "code",
   "execution_count": 27,
   "metadata": {},
   "outputs": [
    {
     "data": {
      "text/plain": [
       "3.51"
      ]
     },
     "execution_count": 27,
     "metadata": {},
     "output_type": "execute_result"
    }
   ],
   "source": [
    "uk_case = UK['Total Cases']*UK['Population Density']/UK['Population']\n",
    "uk_case[17596].round(decimals=2)"
   ]
  },
  {
   "cell_type": "code",
   "execution_count": 28,
   "metadata": {},
   "outputs": [
    {
     "data": {
      "text/plain": [
       "1.79"
      ]
     },
     "execution_count": 28,
     "metadata": {},
     "output_type": "execute_result"
    }
   ],
   "source": [
    "it_case = Italy['Total Cases']*Italy['Population Density']/Italy['Population']\n",
    "it_case[24568].round(decimals=2)"
   ]
  },
  {
   "cell_type": "code",
   "execution_count": 29,
   "metadata": {},
   "outputs": [
    {
     "data": {
      "text/plain": [
       "0.27"
      ]
     },
     "execution_count": 29,
     "metadata": {},
     "output_type": "execute_result"
    }
   ],
   "source": [
    "jp_case = Japan['Total Cases']*Japan['Population Density']/Japan['Population']\n",
    "jp_case[25552].round(decimals=2)"
   ]
  },
  {
   "cell_type": "code",
   "execution_count": 30,
   "metadata": {},
   "outputs": [
    {
     "data": {
      "text/plain": [
       "0.01"
      ]
     },
     "execution_count": 30,
     "metadata": {},
     "output_type": "execute_result"
    }
   ],
   "source": [
    "nz_case = New_Zealand['Total Cases']*New_Zealand['Population Density']/New_Zealand['Population']\n",
    "nz_case[37096].round(decimals=2)"
   ]
  },
  {
   "cell_type": "code",
   "execution_count": 31,
   "metadata": {},
   "outputs": [
    {
     "data": {
      "text/plain": [
       "0.27"
      ]
     },
     "execution_count": 31,
     "metadata": {},
     "output_type": "execute_result"
    }
   ],
   "source": [
    "se_case = Sweden['Total Cases']*Sweden['Population Density']/Sweden['Population']\n",
    "se_case[44814].round(decimals=2)"
   ]
  },
  {
   "cell_type": "code",
   "execution_count": 32,
   "metadata": {},
   "outputs": [
    {
     "data": {
      "text/plain": [
       "0.93"
      ]
     },
     "execution_count": 32,
     "metadata": {},
     "output_type": "execute_result"
    }
   ],
   "source": [
    "us_case = US['Total Cases']*US['Population Density']/US['Population']\n",
    "us_case[49281].round(decimals=2)"
   ]
  },
  {
   "cell_type": "code",
   "execution_count": 33,
   "metadata": {},
   "outputs": [],
   "source": [
    "array = [us_rate[49281], se_rate[44814], nz_rate[37096], jp_rate[25552], it_rate[24568], \n",
    "         uk_rate[17596], chi_rate[9299], br_rate]"
   ]
  },
  {
   "cell_type": "code",
   "execution_count": 34,
   "metadata": {},
   "outputs": [],
   "source": [
    "arrays = [us_case[49281], se_case[44814], nz_case[37096], jp_case[25552], it_case[24568], \n",
    "         uk_case[17596], chi_case[9299], br_case]"
   ]
  },
  {
   "cell_type": "code",
   "execution_count": 35,
   "metadata": {},
   "outputs": [],
   "source": [
    "x = ['United States', 'Sweeden', 'New Zealand','Japan', 'Italy','UK', 'China', 'Brazil']"
   ]
  },
  {
   "cell_type": "code",
   "execution_count": 36,
   "metadata": {},
   "outputs": [],
   "source": [
    "%matplotlib inline\n",
    "import matplotlib.lines as mlines\n",
    "from matplotlib.legend_handler import HandlerLine2D\n",
    "import matplotlib.patches as mpatches\n",
    "import matplotlib.cm as cm\n",
    "import numpy as np\n",
    "import seaborn as sns\n",
    "from numpy.random import randn"
   ]
  },
  {
   "cell_type": "code",
   "execution_count": 37,
   "metadata": {},
   "outputs": [],
   "source": [
    "# Generate bar plots"
   ]
  },
  {
   "cell_type": "code",
   "execution_count": 38,
   "metadata": {},
   "outputs": [
    {
     "data": {
      "text/plain": [
       "Text(0.5, 1.0, 'COVID Deaths per million people 10/26/2020')"
      ]
     },
     "execution_count": 38,
     "metadata": {},
     "output_type": "execute_result"
    },
    {
     "data": {
      "image/png": "[encoded data removed]",
      "text/plain": [
       "<Figure size 720x432 with 1 Axes>"
      ]
     },
     "metadata": {
      "needs_background": "light"
     },
     "output_type": "display_data"
    }
   ],
   "source": [
    "plt.figure(figsize=(10,6))\n",
    "plt.xlabel(\"Countries\")\n",
    "plt.ylabel(\"Total Deaths per million people\")\n",
    "plt.xticks(rotation = 45)\n",
    "plt.bar(x, array, color = \"orange\", width = .5)\n",
    "plt.savefig(\"mortalityVspop.png\")\n",
    "plt.title(\"COVID Deaths per million people 10/26/2020\")"
   ]
  },
  {
   "cell_type": "markdown",
   "metadata": {},
   "source": [
    "* ‘COVID Deaths per million people’ clearly represented, showing the discrepancy between countries, probably a reflex of their policy adopted against the pandemic. Sweden shows a high concentration of deaths per million. Although it had only 5933 deaths, this country has a total population of 10,099,270."
   ]
  },
  {
   "cell_type": "code",
   "execution_count": 39,
   "metadata": {},
   "outputs": [
    {
     "data": {
      "text/plain": [
       "Text(0.5, 1.0, 'COVID Total Cases per Km2 10/26/2020')"
      ]
     },
     "execution_count": 39,
     "metadata": {},
     "output_type": "execute_result"
    },
    {
     "data": {
      "image/png": "[encoded data removed]",
      "text/plain": [
       "<Figure size 720x432 with 1 Axes>"
      ]
     },
     "metadata": {
      "needs_background": "light"
     },
     "output_type": "display_data"
    }
   ],
   "source": [
    "plt.figure(figsize=(10,6))\n",
    "plt.xlabel(\"Countries\")\n",
    "plt.ylabel(\"Total Cases per Km2\")\n",
    "plt.xticks(rotation = 45)\n",
    "plt.bar(x, arrays, color = \"magenta\", width = .5)\n",
    "plt.savefig(\"casesPerKm.png\")\n",
    "plt.title(\"COVID Total Cases per Km2 10/26/2020\")"
   ]
  },
  {
   "cell_type": "markdown",
   "metadata": {},
   "source": [
    "* ‘COVID Total Cases per Km2’ shows an unexpected concentration of cases per area, once the virus is highly airborne transmissible, the population density has effect especially in UK and Italy, smaller countries compared to US and Brazil."
   ]
  },
  {
   "cell_type": "code",
   "execution_count": 40,
   "metadata": {},
   "outputs": [],
   "source": [
    "# Generate scatter plots and obtain Linear Regression"
   ]
  },
  {
   "cell_type": "code",
   "execution_count": 41,
   "metadata": {},
   "outputs": [
    {
     "data": {
      "image/png": "[encoded data removed]",
      "text/plain": [
       "<Figure size 432x288 with 1 Axes>"
      ]
     },
     "metadata": {
      "needs_background": "light"
     },
     "output_type": "display_data"
    },
    {
     "name": "stdout",
     "output_type": "stream",
     "text": [
      "y = -318149.51 x + 14942807.83\n",
      "The r-value is: -0.49343323772005127\n",
      "The p-value is: 0.2140176826897873\n"
     ]
    }
   ],
   "source": [
    "x_values = owid_4.iloc[:,6]\n",
    "y_values = owid_4.iloc[:,2]\n",
    "(slope, intercept, rvalue, pvalue, stderr) = st.linregress(x_values, y_values)\n",
    "regress_values = x_values * slope + intercept\n",
    "plt.scatter(x_values, y_values)\n",
    "plt.plot(x_values, regress_values, \"r-\")\n",
    "plt.xlabel(\"Median Age (years)\")\n",
    "plt.ylabel('COVID cases per million people')\n",
    "plt.title(\"COVID Total Cases vs. Median Age (years) 10/26/2020\")\n",
    "line_eq = f\"y = {round(slope, 2)} x + {round(intercept, 2)}\"\n",
    "plt.savefig(\"2.png\")\n",
    "plt.show()\n",
    "print(line_eq)\n",
    "print(f\"The r-value is: {rvalue}\")\n",
    "print(f\"The p-value is: {pvalue}\")"
   ]
  },
  {
   "cell_type": "markdown",
   "metadata": {},
   "source": [
    "*Low negative correlation"
   ]
  },
  {
   "cell_type": "markdown",
   "metadata": {},
   "source": [
    "*Insufficient evidence against Null hypothesis"
   ]
  },
  {
   "cell_type": "code",
   "execution_count": 42,
   "metadata": {},
   "outputs": [
    {
     "data": {
      "image/png": "[encoded data removed]",
      "text/plain": [
       "<Figure size 432x288 with 1 Axes>"
      ]
     },
     "metadata": {
      "needs_background": "light"
     },
     "output_type": "display_data"
    },
    {
     "name": "stdout",
     "output_type": "stream",
     "text": [
      "y = -8082.59 x + 389295.25\n",
      "The r-value is: -0.4795286710526217\n",
      "The p-value is: 0.22920858515649697\n"
     ]
    }
   ],
   "source": [
    "x_values = owid_4.iloc[:,6]\n",
    "y_values = owid_4.iloc[:,3]\n",
    "(slope, intercept, rvalue, pvalue, stderr) = st.linregress(x_values, y_values)\n",
    "regress_values = x_values * slope + intercept\n",
    "plt.scatter(x_values, y_values)\n",
    "plt.plot(x_values, regress_values, \"r-\")\n",
    "plt.xlabel(\"Median Age (years)\")\n",
    "plt.ylabel(\"COVID Total Deaths\")\n",
    "plt.title(\"COVID Total Deaths vs. Median Age (years) 10/26/2020\")\n",
    "line_eq = f\"y = {round(slope, 2)} x + {round(intercept, 2)}\"\n",
    "plt.savefig(\"3.png\")\n",
    "plt.show()\n",
    "print(line_eq)\n",
    "print(f\"The r-value is: {rvalue}\")\n",
    "print(f\"The p-value is: {pvalue}\")"
   ]
  },
  {
   "cell_type": "markdown",
   "metadata": {},
   "source": [
    "*Low negative correlation"
   ]
  },
  {
   "cell_type": "markdown",
   "metadata": {},
   "source": [
    "*Insufficient evidence against Null hypothesis"
   ]
  },
  {
   "cell_type": "code",
   "execution_count": null,
   "metadata": {},
   "outputs": [],
   "source": []
  }
 ],
 "metadata": {
  "kernelspec": {
   "display_name": "Python 3",
   "language": "python",
   "name": "python3"
  },
  "language_info": {
   "codemirror_mode": {
    "name": "ipython",
    "version": 3
   },
   "file_extension": ".py",
   "mimetype": "text/x-python",
   "name": "python",
   "nbconvert_exporter": "python",
   "pygments_lexer": "ipython3",
   "version": "3.8.3"
  }
 },
 "nbformat": 4,
 "nbformat_minor": 4
}
